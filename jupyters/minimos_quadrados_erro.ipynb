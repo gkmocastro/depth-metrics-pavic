{
 "cells": [
  {
   "cell_type": "code",
   "execution_count": null,
   "metadata": {},
   "outputs": [],
   "source": [
    "import numpy as np\n",
    "from scipy.optimize import least_squares\n",
    "from datasets import load_dataset\n",
    "import os\n",
    "\n",
    "depth_path = \"/home/julio/Desktop/depth_npy\"\n",
    "# Carregar o conjunto de dados\n",
    "ds = load_dataset(\"sayakpaul/nyu_depth_v2\", split=\"validation\")\n",
    "gt = ds[\"depth_map\"]\n",
    "delta1 = np.asarray(gt)\n",
    "\n",
    "# Função para carregar os dados do segundo delta\n",
    "def load_delta2(depth_path, idx):\n",
    "    return np.load(os.path.join(depth_path, f\"{idx + 1}_pred.npy\"))\n",
    "\n",
    "# Função para o cálculo dos mínimos quadrados invertidos\n",
    "def inverse_affine_least_squares(delta1, delta2):\n",
    "    # Definir a função de erro para os mínimos quadrados invertidos\n",
    "    def error_func(params, x, y):\n",
    "        a, b = params\n",
    "        x_pred = a * y + b\n",
    "        return np.ravel(x - x_pred)  # Flatten the array to 1D\n",
    "\n",
    "    # Parâmetros iniciais\n",
    "    initial_params = [1.0, 0.0]  # Suposição inicial de coeficientes\n",
    "\n",
    "    # Executar os mínimos quadrados invertidos\n",
    "    result = least_squares(error_func, initial_params, args=(delta1, delta2))\n",
    "\n",
    "    # Recuperar os coeficientes ajustados\n",
    "    a, b = result.x\n",
    "\n",
    "    return a, b\n",
    "\n",
    "# Iterar sobre os dados e calcular os mínimos quadrados invertidos para cada par delta1 e delta2\n",
    "for idx in range(len(ds)):\n",
    "    delta2 = load_delta2(depth_path, idx)\n",
    "    a, b = inverse_affine_least_squares(delta1, delta2)\n",
    "    print(f\"Iteração {idx}: Coeficiente a:\", a)\n",
    "    print(f\"Iteração {idx}: Coeficiente b:\", b)"
   ]
  }
 ],
 "metadata": {
  "kernelspec": {
   "display_name": "marigold",
   "language": "python",
   "name": "python3"
  },
  "language_info": {
   "name": "python",
   "version": "3.11.7"
  }
 },
 "nbformat": 4,
 "nbformat_minor": 2
}
