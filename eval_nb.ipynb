{
 "cells": [
  {
   "cell_type": "code",
   "execution_count": 1,
   "metadata": {},
   "outputs": [],
   "source": [
    "import numpy as np\n",
    "import pandas as pd\n",
    "import matplotlib.pyplot as plt\n",
    "from pathlib import Path\n",
    "from PIL import Image\n",
    "\n",
    "import utils as U\n",
    "\n",
    "diode_path = Path(\"/home/gustavo/workstation/depth_estimation/data/datasets_quali/DIODE/\")\n",
    "diode_indoor = diode_path / \"val\" / \"indoors\"\n",
    "diode_outdoor = diode_path / \"val\" / \"outdoor\"\n",
    "diode_preds = Path(\"/home/gustavo/workstation/depth_estimation/data/outputs/DIODE-Anythingv2/npy/\")"
   ]
  },
  {
   "cell_type": "code",
   "execution_count": 2,
   "metadata": {},
   "outputs": [],
   "source": [
    "def eval_diode(gt_path, mask_path, pred_path):\n",
    "\n",
    "    filenames_depth = U.get_sorted_files(gt_path, \"_depth.npy\")\n",
    "    filenames_mask = U.get_sorted_files(mask_path, \"_depth_mask.npy\")\n",
    "    filenames_preds = U.get_sorted_files(pred_path, \".npy\")\n",
    "\n",
    "    abs_rel_total = 0\n",
    "    delta_total = 0\n",
    "\n",
    "    num_imgs = len(filenames_depth)\n",
    "\n",
    "    data = []\n",
    "\n",
    "    for index in range(num_imgs):\n",
    "\n",
    "        pred_diode = np.load(filenames_preds[index])\n",
    "        groundtruth = np.squeeze(np.load(filenames_depth[index]))\n",
    "        H,W = groundtruth.shape\n",
    "\n",
    "        mask = np.load(filenames_mask[index]).reshape((H, W))\n",
    "        mask_pred = np.ones_like(pred_diode)\n",
    "        mask_pred[pred_diode < 1e-1] = 0\n",
    "        mask_full = mask * mask_pred\n",
    "\n",
    "        gt_depth_masked = np.zeros_like(groundtruth)\n",
    "        gt_depth_masked[mask_full == 1] = groundtruth[mask_full == 1]\n",
    "\n",
    "        gt_disp_masked = np.zeros_like(groundtruth)\n",
    "        gt_disp_masked[mask_full == 1] = 1.0 / groundtruth[mask_full == 1]\n",
    "\n",
    "        x_0, x_1 = U.compute_scale_and_shift(pred_diode, gt_disp_masked, mask_full)\n",
    "\n",
    "        prediction_aligned = x_0 * pred_diode + x_1\n",
    "        prediction_aligned = np.squeeze(prediction_aligned)*mask_full\n",
    "\n",
    "        depth_aligned_masked = np.zeros_like(pred_diode)\n",
    "        depth_aligned_masked[mask_full == 1] = 1 / prediction_aligned[mask_full == 1]\n",
    "\n",
    "        abs_rel = U.abs_rel_error_mask(gt_depth_masked,depth_aligned_masked , mask_full)\n",
    "        delta = U.calculate_delta(gt_depth_masked, depth_aligned_masked , mask_full, threshold=1.25)\n",
    "\n",
    "        abs_rel_total = abs_rel_total + abs_rel\n",
    "        delta_total = delta_total + delta\n",
    "\n",
    "        row = {\"fname\": index, \"absrel\": abs_rel, \"delta\": delta}\n",
    "        data.append(row)\n",
    "    \n",
    "    return abs_rel_total / num_imgs, delta_total/num_imgs, pd.DataFrame(data)"
   ]
  },
  {
   "cell_type": "code",
   "execution_count": 3,
   "metadata": {},
   "outputs": [],
   "source": [
    "absrel, delta, df = eval_diode(diode_path, diode_path, diode_preds)"
   ]
  },
  {
   "cell_type": "code",
   "execution_count": 7,
   "metadata": {},
   "outputs": [
    {
     "data": {
      "text/plain": [
       "np.float32(0.18034954)"
      ]
     },
     "execution_count": 7,
     "metadata": {},
     "output_type": "execute_result"
    }
   ],
   "source": [
    "absrel"
   ]
  },
  {
   "cell_type": "code",
   "execution_count": 8,
   "metadata": {},
   "outputs": [
    {
     "data": {
      "text/plain": [
       "np.float64(75.72203511895378)"
      ]
     },
     "execution_count": 8,
     "metadata": {},
     "output_type": "execute_result"
    }
   ],
   "source": [
    "delta"
   ]
  },
  {
   "cell_type": "code",
   "execution_count": 4,
   "metadata": {},
   "outputs": [
    {
     "data": {
      "text/html": [
       "<div>\n",
       "<style scoped>\n",
       "    .dataframe tbody tr th:only-of-type {\n",
       "        vertical-align: middle;\n",
       "    }\n",
       "\n",
       "    .dataframe tbody tr th {\n",
       "        vertical-align: top;\n",
       "    }\n",
       "\n",
       "    .dataframe thead th {\n",
       "        text-align: right;\n",
       "    }\n",
       "</style>\n",
       "<table border=\"1\" class=\"dataframe\">\n",
       "  <thead>\n",
       "    <tr style=\"text-align: right;\">\n",
       "      <th></th>\n",
       "      <th>fname</th>\n",
       "      <th>absrel</th>\n",
       "      <th>delta</th>\n",
       "    </tr>\n",
       "  </thead>\n",
       "  <tbody>\n",
       "    <tr>\n",
       "      <th>0</th>\n",
       "      <td>0</td>\n",
       "      <td>0.052337</td>\n",
       "      <td>95.337142</td>\n",
       "    </tr>\n",
       "    <tr>\n",
       "      <th>1</th>\n",
       "      <td>1</td>\n",
       "      <td>0.036899</td>\n",
       "      <td>98.428650</td>\n",
       "    </tr>\n",
       "    <tr>\n",
       "      <th>2</th>\n",
       "      <td>2</td>\n",
       "      <td>0.074680</td>\n",
       "      <td>94.016174</td>\n",
       "    </tr>\n",
       "    <tr>\n",
       "      <th>3</th>\n",
       "      <td>3</td>\n",
       "      <td>0.027188</td>\n",
       "      <td>98.408820</td>\n",
       "    </tr>\n",
       "    <tr>\n",
       "      <th>4</th>\n",
       "      <td>4</td>\n",
       "      <td>0.028566</td>\n",
       "      <td>99.080527</td>\n",
       "    </tr>\n",
       "  </tbody>\n",
       "</table>\n",
       "</div>"
      ],
      "text/plain": [
       "   fname    absrel      delta\n",
       "0      0  0.052337  95.337142\n",
       "1      1  0.036899  98.428650\n",
       "2      2  0.074680  94.016174\n",
       "3      3  0.027188  98.408820\n",
       "4      4  0.028566  99.080527"
      ]
     },
     "execution_count": 4,
     "metadata": {},
     "output_type": "execute_result"
    }
   ],
   "source": [
    "df.head()"
   ]
  },
  {
   "cell_type": "code",
   "execution_count": 5,
   "metadata": {},
   "outputs": [
    {
     "data": {
      "text/html": [
       "<div>\n",
       "<style scoped>\n",
       "    .dataframe tbody tr th:only-of-type {\n",
       "        vertical-align: middle;\n",
       "    }\n",
       "\n",
       "    .dataframe tbody tr th {\n",
       "        vertical-align: top;\n",
       "    }\n",
       "\n",
       "    .dataframe thead th {\n",
       "        text-align: right;\n",
       "    }\n",
       "</style>\n",
       "<table border=\"1\" class=\"dataframe\">\n",
       "  <thead>\n",
       "    <tr style=\"text-align: right;\">\n",
       "      <th></th>\n",
       "      <th>fname</th>\n",
       "      <th>absrel</th>\n",
       "      <th>delta</th>\n",
       "    </tr>\n",
       "  </thead>\n",
       "  <tbody>\n",
       "    <tr>\n",
       "      <th>766</th>\n",
       "      <td>766</td>\n",
       "      <td>0.388852</td>\n",
       "      <td>22.059645</td>\n",
       "    </tr>\n",
       "    <tr>\n",
       "      <th>767</th>\n",
       "      <td>767</td>\n",
       "      <td>0.136647</td>\n",
       "      <td>10.384759</td>\n",
       "    </tr>\n",
       "    <tr>\n",
       "      <th>768</th>\n",
       "      <td>768</td>\n",
       "      <td>0.219132</td>\n",
       "      <td>23.825043</td>\n",
       "    </tr>\n",
       "    <tr>\n",
       "      <th>769</th>\n",
       "      <td>769</td>\n",
       "      <td>0.126241</td>\n",
       "      <td>32.829876</td>\n",
       "    </tr>\n",
       "    <tr>\n",
       "      <th>770</th>\n",
       "      <td>770</td>\n",
       "      <td>0.170131</td>\n",
       "      <td>25.853179</td>\n",
       "    </tr>\n",
       "  </tbody>\n",
       "</table>\n",
       "</div>"
      ],
      "text/plain": [
       "     fname    absrel      delta\n",
       "766    766  0.388852  22.059645\n",
       "767    767  0.136647  10.384759\n",
       "768    768  0.219132  23.825043\n",
       "769    769  0.126241  32.829876\n",
       "770    770  0.170131  25.853179"
      ]
     },
     "execution_count": 5,
     "metadata": {},
     "output_type": "execute_result"
    }
   ],
   "source": [
    "df.tail()"
   ]
  },
  {
   "cell_type": "code",
   "execution_count": 6,
   "metadata": {},
   "outputs": [],
   "source": [
    "df.to_csv(\"diode_results.csv\", index=False)"
   ]
  }
 ],
 "metadata": {
  "kernelspec": {
   "display_name": ".venv",
   "language": "python",
   "name": "python3"
  },
  "language_info": {
   "codemirror_mode": {
    "name": "ipython",
    "version": 3
   },
   "file_extension": ".py",
   "mimetype": "text/x-python",
   "name": "python",
   "nbconvert_exporter": "python",
   "pygments_lexer": "ipython3",
   "version": "3.10.12"
  }
 },
 "nbformat": 4,
 "nbformat_minor": 2
}
