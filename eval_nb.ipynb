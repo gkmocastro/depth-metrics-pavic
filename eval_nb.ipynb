{
 "cells": [
  {
   "cell_type": "code",
   "execution_count": 9,
   "metadata": {},
   "outputs": [],
   "source": [
    "import numpy as np\n",
    "import pandas as pd\n",
    "import matplotlib.pyplot as plt\n",
    "from pathlib import Path\n",
    "from PIL import Image\n",
    "\n",
    "import utils as U\n",
    "\n",
    "diode_path = Path(\"/home/gustavo/workstation/depth_estimation/data/datasets_quali/DIODE/\")\n",
    "diode_indoor = diode_path / \"val\" / \"indoors\"\n",
    "diode_outdoor = diode_path / \"val\" / \"outdoor\"\n",
    "diode_preds = Path(\"/home/gustavo/workstation/depth_estimation/data/outputs/DIODE-Anythingv2/npy/\")"
   ]
  },
  {
   "cell_type": "code",
   "execution_count": 10,
   "metadata": {},
   "outputs": [],
   "source": [
    "def eval_diode(gt_path, mask_path, pred_path):\n",
    "\n",
    "    filenames_depth = U.get_sorted_files(gt_path, \"_depth.npy\")\n",
    "    filenames_mask = U.get_sorted_files(mask_path, \"_depth_mask.npy\")\n",
    "    filenames_preds = U.get_sorted_files(pred_path, \".npy\")\n",
    "\n",
    "    abs_rel_total = 0\n",
    "    delta_total = 0\n",
    "\n",
    "    num_imgs = len(filenames_depth)\n",
    "\n",
    "    data = []\n",
    "\n",
    "    for index in range(num_imgs):\n",
    "\n",
    "        pred_diode = np.load(filenames_preds[index])\n",
    "        groundtruth = np.squeeze(np.load(filenames_depth[index]))\n",
    "        H,W = groundtruth.shape\n",
    "\n",
    "        mask = np.load(filenames_mask[index]).reshape((H, W))\n",
    "        mask_pred = np.ones_like(pred_diode)\n",
    "        mask_pred[pred_diode < 1e-1] = 0\n",
    "        mask_full = mask * mask_pred\n",
    "\n",
    "        gt_depth_masked = np.zeros_like(groundtruth)\n",
    "        gt_depth_masked[mask_full == 1] = groundtruth[mask_full == 1]\n",
    "\n",
    "        gt_disp_masked = np.zeros_like(groundtruth)\n",
    "        gt_disp_masked[mask_full == 1] = 1.0 / groundtruth[mask_full == 1]\n",
    "\n",
    "        x_0, x_1 = U.compute_scale_and_shift(pred_diode, gt_disp_masked, mask_full)\n",
    "\n",
    "        prediction_aligned = x_0 * pred_diode + x_1\n",
    "        prediction_aligned = np.squeeze(prediction_aligned)*mask_full\n",
    "\n",
    "        depth_aligned_masked = np.zeros_like(pred_diode)\n",
    "        depth_aligned_masked[mask_full == 1] = 1 / prediction_aligned[mask_full == 1]\n",
    "\n",
    "        abs_rel = U.abs_rel_error_mask(gt_depth_masked,depth_aligned_masked , mask_full)\n",
    "        delta = U.calculate_delta(gt_depth_masked, depth_aligned_masked , mask_full, threshold=1.25)\n",
    "\n",
    "        abs_rel_total = abs_rel_total + abs_rel\n",
    "        delta_total = delta_total + delta\n",
    "\n",
    "        row = {\"fname\": index, \"absrel\": abs_rel, \"delta\": delta}\n",
    "        data.append(row)\n",
    "    \n",
    "    return abs_rel_total / num_imgs, delta_total/num_imgs, pd.DataFrame(data)"
   ]
  },
  {
   "cell_type": "code",
   "execution_count": 11,
   "metadata": {},
   "outputs": [
    {
     "name": "stderr",
     "output_type": "stream",
     "text": [
      "/tmp/ipykernel_24138/2886252211.py:37: RuntimeWarning: divide by zero encountered in divide\n",
      "  depth_aligned_masked[mask_full == 1] = 1 / prediction_aligned[mask_full == 1]\n",
      "/home/gustavo/workstation/depth_estimation/codes/depth-metrics-pavic/utils.py:262: RuntimeWarning: invalid value encountered in divide\n",
      "  rel_diff[mask==1] = diff[mask==1] / (img2[mask==1])\n"
     ]
    }
   ],
   "source": [
    "absrel, delta, df = eval_diode(diode_outdoor, diode_outdoor, diode_preds)"
   ]
  },
  {
   "cell_type": "code",
   "execution_count": 12,
   "metadata": {},
   "outputs": [
    {
     "data": {
      "text/plain": [
       "np.float32(nan)"
      ]
     },
     "execution_count": 12,
     "metadata": {},
     "output_type": "execute_result"
    }
   ],
   "source": [
    "absrel"
   ]
  },
  {
   "cell_type": "code",
   "execution_count": 13,
   "metadata": {},
   "outputs": [
    {
     "data": {
      "text/plain": [
       "np.float64(40.264071425429165)"
      ]
     },
     "execution_count": 13,
     "metadata": {},
     "output_type": "execute_result"
    }
   ],
   "source": [
    "delta"
   ]
  },
  {
   "cell_type": "code",
   "execution_count": 14,
   "metadata": {},
   "outputs": [
    {
     "data": {
      "text/html": [
       "<div>\n",
       "<style scoped>\n",
       "    .dataframe tbody tr th:only-of-type {\n",
       "        vertical-align: middle;\n",
       "    }\n",
       "\n",
       "    .dataframe tbody tr th {\n",
       "        vertical-align: top;\n",
       "    }\n",
       "\n",
       "    .dataframe thead th {\n",
       "        text-align: right;\n",
       "    }\n",
       "</style>\n",
       "<table border=\"1\" class=\"dataframe\">\n",
       "  <thead>\n",
       "    <tr style=\"text-align: right;\">\n",
       "      <th></th>\n",
       "      <th>fname</th>\n",
       "      <th>absrel</th>\n",
       "      <th>delta</th>\n",
       "    </tr>\n",
       "  </thead>\n",
       "  <tbody>\n",
       "    <tr>\n",
       "      <th>0</th>\n",
       "      <td>0</td>\n",
       "      <td>0.828009</td>\n",
       "      <td>36.875188</td>\n",
       "    </tr>\n",
       "    <tr>\n",
       "      <th>1</th>\n",
       "      <td>1</td>\n",
       "      <td>0.694217</td>\n",
       "      <td>17.988570</td>\n",
       "    </tr>\n",
       "    <tr>\n",
       "      <th>2</th>\n",
       "      <td>2</td>\n",
       "      <td>0.041233</td>\n",
       "      <td>94.033256</td>\n",
       "    </tr>\n",
       "    <tr>\n",
       "      <th>3</th>\n",
       "      <td>3</td>\n",
       "      <td>1.144395</td>\n",
       "      <td>13.880389</td>\n",
       "    </tr>\n",
       "    <tr>\n",
       "      <th>4</th>\n",
       "      <td>4</td>\n",
       "      <td>0.084752</td>\n",
       "      <td>92.622166</td>\n",
       "    </tr>\n",
       "  </tbody>\n",
       "</table>\n",
       "</div>"
      ],
      "text/plain": [
       "   fname    absrel      delta\n",
       "0      0  0.828009  36.875188\n",
       "1      1  0.694217  17.988570\n",
       "2      2  0.041233  94.033256\n",
       "3      3  1.144395  13.880389\n",
       "4      4  0.084752  92.622166"
      ]
     },
     "execution_count": 14,
     "metadata": {},
     "output_type": "execute_result"
    }
   ],
   "source": [
    "df.head()"
   ]
  },
  {
   "cell_type": "code",
   "execution_count": 15,
   "metadata": {},
   "outputs": [
    {
     "data": {
      "text/html": [
       "<div>\n",
       "<style scoped>\n",
       "    .dataframe tbody tr th:only-of-type {\n",
       "        vertical-align: middle;\n",
       "    }\n",
       "\n",
       "    .dataframe tbody tr th {\n",
       "        vertical-align: top;\n",
       "    }\n",
       "\n",
       "    .dataframe thead th {\n",
       "        text-align: right;\n",
       "    }\n",
       "</style>\n",
       "<table border=\"1\" class=\"dataframe\">\n",
       "  <thead>\n",
       "    <tr style=\"text-align: right;\">\n",
       "      <th></th>\n",
       "      <th>fname</th>\n",
       "      <th>absrel</th>\n",
       "      <th>delta</th>\n",
       "    </tr>\n",
       "  </thead>\n",
       "  <tbody>\n",
       "    <tr>\n",
       "      <th>441</th>\n",
       "      <td>441</td>\n",
       "      <td>0.313667</td>\n",
       "      <td>17.241360</td>\n",
       "    </tr>\n",
       "    <tr>\n",
       "      <th>442</th>\n",
       "      <td>442</td>\n",
       "      <td>0.124660</td>\n",
       "      <td>16.082664</td>\n",
       "    </tr>\n",
       "    <tr>\n",
       "      <th>443</th>\n",
       "      <td>443</td>\n",
       "      <td>0.286338</td>\n",
       "      <td>26.604450</td>\n",
       "    </tr>\n",
       "    <tr>\n",
       "      <th>444</th>\n",
       "      <td>444</td>\n",
       "      <td>0.145066</td>\n",
       "      <td>32.865401</td>\n",
       "    </tr>\n",
       "    <tr>\n",
       "      <th>445</th>\n",
       "      <td>445</td>\n",
       "      <td>0.181382</td>\n",
       "      <td>34.365379</td>\n",
       "    </tr>\n",
       "  </tbody>\n",
       "</table>\n",
       "</div>"
      ],
      "text/plain": [
       "     fname    absrel      delta\n",
       "441    441  0.313667  17.241360\n",
       "442    442  0.124660  16.082664\n",
       "443    443  0.286338  26.604450\n",
       "444    444  0.145066  32.865401\n",
       "445    445  0.181382  34.365379"
      ]
     },
     "execution_count": 15,
     "metadata": {},
     "output_type": "execute_result"
    }
   ],
   "source": [
    "df.tail()"
   ]
  },
  {
   "cell_type": "code",
   "execution_count": 16,
   "metadata": {},
   "outputs": [],
   "source": [
    "df.to_csv(\"diode_results.csv\", index=False)"
   ]
  }
 ],
 "metadata": {
  "kernelspec": {
   "display_name": ".venv",
   "language": "python",
   "name": "python3"
  },
  "language_info": {
   "codemirror_mode": {
    "name": "ipython",
    "version": 3
   },
   "file_extension": ".py",
   "mimetype": "text/x-python",
   "name": "python",
   "nbconvert_exporter": "python",
   "pygments_lexer": "ipython3",
   "version": "3.10.12"
  }
 },
 "nbformat": 4,
 "nbformat_minor": 2
}
