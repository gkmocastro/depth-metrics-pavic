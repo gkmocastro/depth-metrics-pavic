{
 "cells": [
  {
   "cell_type": "code",
   "execution_count": 14,
   "metadata": {},
   "outputs": [],
   "source": [
    "import numpy as np\n",
    "import pandas as pd\n",
    "import matplotlib.pyplot as plt\n",
    "from pathlib import Path\n",
    "from PIL import Image\n",
    "\n",
    "import utils as U\n",
    "\n",
    "diode_path = Path(\"/home/gustavo/workstation/depth_estimation/data/datasets_quali/DIODE/\")\n",
    "diode_indoor = diode_path / \"val\" / \"indoors\"\n",
    "diode_outdoor = diode_path / \"val\" / \"outdoor\"\n",
    "diode_preds = Path(\"/home/gustavo/workstation/depth_estimation/data/outputs/DIODE-Anythingv2/npy/\")"
   ]
  },
  {
   "cell_type": "code",
   "execution_count": 15,
   "metadata": {},
   "outputs": [],
   "source": [
    "def eval_diode(gt_path, mask_path, pred_path):\n",
    "\n",
    "    filenames_depth = U.get_sorted_files(gt_path, \"_depth.npy\")\n",
    "    filenames_mask = U.get_sorted_files(mask_path, \"_depth_mask.npy\")\n",
    "    filenames_preds = U.get_sorted_files(pred_path, \".npy\")\n",
    "\n",
    "    abs_rel = 0\n",
    "    delta = 0\n",
    "    num_imgs = len(filenames_depth)\n",
    "    for index in range(num_imgs):\n",
    "\n",
    "        pred_diode = np.load(filenames_preds[index])\n",
    "        groundtruth = np.squeeze(np.load(filenames_depth[index]))\n",
    "        H,W = groundtruth.shape\n",
    "\n",
    "        mask = np.load(filenames_mask[index]).reshape((H, W))\n",
    "        mask_pred = np.ones_like(pred_diode)\n",
    "        mask_pred[pred_diode < 1e-1] = 0\n",
    "        mask_full = mask * mask_pred\n",
    "\n",
    "        gt_depth_masked = np.zeros_like(groundtruth)\n",
    "        gt_depth_masked[mask_full == 1] = groundtruth[mask_full == 1]\n",
    "\n",
    "        gt_disp_masked = np.zeros_like(groundtruth)\n",
    "        gt_disp_masked[mask_full == 1] = 1.0 / groundtruth[mask_full == 1]\n",
    "\n",
    "        # pred_depth = np.zeros_like(groundtruth) \n",
    "        # pred_depth[mask_full == 1] = 1.0 / pred_diode[mask_full == 1]\n",
    "\n",
    "        x_0, x_1 = U.compute_scale_and_shift(pred_diode, gt_disp_masked, mask_full)\n",
    "\n",
    "        prediction_aligned = x_0 * pred_diode + x_1\n",
    "        prediction_aligned = np.squeeze(prediction_aligned)*mask_full\n",
    "\n",
    "        depth_aligned_masked = np.zeros_like(pred_diode)\n",
    "        depth_aligned_masked[mask_full == 1] = 1 / prediction_aligned[mask_full == 1]\n",
    "\n",
    "        abs_rel += U.abs_rel_error_mask(depth_aligned_masked, gt_depth_masked, mask_full)\n",
    "        delta += U.calculate_delta(depth_aligned_masked, gt_depth_masked, mask_full, threshold=1.25)\n",
    "\n",
    "    return abs_rel/num_imgs, delta/num_imgs"
   ]
  },
  {
   "cell_type": "code",
   "execution_count": 16,
   "metadata": {},
   "outputs": [
    {
     "data": {
      "text/plain": [
       "(np.float32(0.22291578), np.float64(75.72203511895378))"
      ]
     },
     "execution_count": 16,
     "metadata": {},
     "output_type": "execute_result"
    }
   ],
   "source": [
    "eval_diode(diode_path, diode_path, diode_preds)"
   ]
  }
 ],
 "metadata": {
  "kernelspec": {
   "display_name": ".venv",
   "language": "python",
   "name": "python3"
  },
  "language_info": {
   "codemirror_mode": {
    "name": "ipython",
    "version": 3
   },
   "file_extension": ".py",
   "mimetype": "text/x-python",
   "name": "python",
   "nbconvert_exporter": "python",
   "pygments_lexer": "ipython3",
   "version": "3.10.12"
  }
 },
 "nbformat": 4,
 "nbformat_minor": 2
}
