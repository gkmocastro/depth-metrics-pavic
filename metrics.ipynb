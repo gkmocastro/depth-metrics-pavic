{
 "cells": [
  {
   "cell_type": "code",
   "execution_count": 1,
   "metadata": {},
   "outputs": [],
   "source": [
    "import numpy as np"
   ]
  },
  {
   "cell_type": "code",
   "execution_count": 3,
   "metadata": {},
   "outputs": [],
   "source": [
    "def abs_rel_error(img1, img2):\n",
    "  \"\"\"\n",
    "  Calculates the absolute relative error between two images.\n",
    "\n",
    "  Args:\n",
    "    img1: The first image as a NumPy array.\n",
    "    img2: The second image as a NumPy array.\n",
    "\n",
    "  Returns:\n",
    "    The absolute relative error between the two images.\n",
    "  \"\"\"\n",
    "\n",
    "  assert img1.shape == img2.shape, \"Images must have the same shape\"\n",
    "\n",
    "  diff = np.abs(img1 - img2)\n",
    "  rel_diff = diff / (img2 + 1e-8)  # Add a small value to avoid division by zero\n",
    "  abs_rel = np.mean(rel_diff)\n",
    "  return abs_rel"
   ]
  },
  {
   "cell_type": "markdown",
   "metadata": {},
   "source": [
    "## least squares alignment"
   ]
  },
  {
   "cell_type": "markdown",
   "metadata": {},
   "source": []
  }
 ],
 "metadata": {
  "kernelspec": {
   "display_name": ".venv",
   "language": "python",
   "name": "python3"
  },
  "language_info": {
   "codemirror_mode": {
    "name": "ipython",
    "version": 3
   },
   "file_extension": ".py",
   "mimetype": "text/x-python",
   "name": "python",
   "nbconvert_exporter": "python",
   "pygments_lexer": "ipython3",
   "version": "3.10.12"
  }
 },
 "nbformat": 4,
 "nbformat_minor": 2
}
